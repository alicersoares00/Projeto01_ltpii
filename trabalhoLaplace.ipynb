{
  "nbformat": 4,
  "nbformat_minor": 0,
  "metadata": {
    "colab": {
      "provenance": [],
      "include_colab_link": true
    },
    "kernelspec": {
      "name": "python3",
      "display_name": "Python 3"
    },
    "language_info": {
      "name": "python"
    }
  },
  "cells": [
    {
      "cell_type": "markdown",
      "metadata": {
        "id": "view-in-github",
        "colab_type": "text"
      },
      "source": [
        "<a href=\"https://colab.research.google.com/github/alicersoares00/Projeto01_ltpii/blob/main/trabalhoLaplace.ipynb\" target=\"_parent\"><img src=\"https://colab.research.google.com/assets/colab-badge.svg\" alt=\"Open In Colab\"/></a>"
      ]
    },
    {
      "cell_type": "code",
      "execution_count": null,
      "metadata": {
        "id": "9KlB69b5V7nW"
      },
      "outputs": [],
      "source": [
        "\"\"\"\n",
        "Trabalho de Álgebra Linear - Determinante de uma Matriz pelo Teorema de Laplace\n",
        "\n",
        "Integrantes do grupo:\n",
        "Alice Rodrigues Soares - RA: 22400343\n",
        "Beatriz Lisbôa de Freitas - RA: 22401492\n",
        "Gabriela Pedersoli Caldana - RA: 22404253\n",
        "José Caciano Nunes - RA: 22400319\n",
        "Rodrigo Silva Madeira Campos - RA: 22400645\n",
        "Thaís Regina Dias da Mota - RA: 22403754\n",
        "\"\"\"\n",
        "\n",
        "def main():\n",
        "    while True:  # Loop até que o usuário informe uma matriz quadrada\n",
        "        # Solicita ao usuário o número de linhas e colunas da matriz\n",
        "        lin = int(input(\"\\nInsira quantas linhas você quer na matriz: \"))\n",
        "        col = int(input(\"\\nInsira quantas colunas você quer na matriz: \"))\n",
        "\n",
        "        # Verifica se a matriz é quadrada\n",
        "        if lin != col:\n",
        "            print(\"\\nA matriz inserida não é quadrada. Por favor, forneça outros valores.\")\n",
        "        else:\n",
        "            break  # Sai do loop se a matriz for quadrada\n",
        "\n",
        "    # Cria uma matriz de zeros com o número de linhas e colunas especificadas\n",
        "    matriz = [[0 for c in range(col)] for l in range(lin)]\n",
        "\n",
        "    # Preenche a matriz com valores inseridos pelo usuário\n",
        "    for l in range(lin):\n",
        "        for c in range(col):\n",
        "            matriz[l][c] = int(input(f\"\\nInsira o valor para a coluna {c+1} da linha {l+1}: \"))\n",
        "\n",
        "    # Exibe a matriz preenchida\n",
        "    print(\"\\nAqui estão os elementos da sua matriz:\\n\")\n",
        "    for lin in matriz:\n",
        "        for elemento in lin:\n",
        "            print(elemento, end=\"\\t\")  # Exibe cada elemento da linha com tabulação\n",
        "        print()  # Quebra de linha após exibir uma linha completa\n",
        "\n",
        "    return matriz  # Retorna a matriz preenchida\n",
        "\n",
        "\n",
        "def submatriz(matriz, i, j):\n",
        "    # Função que cria uma submatriz excluindo a linha 'i' e a coluna 'j'\n",
        "    submatriz = []\n",
        "    for lin in range(len(matriz)):\n",
        "        if lin != i:  # Ignora a linha 'i'\n",
        "            # Cria uma nova linha excluindo o elemento da coluna 'j'\n",
        "            linha_nova = [matriz[lin][col] for col in range(len(matriz[lin])) if col != j]\n",
        "            submatriz.append(linha_nova)  # Adiciona a nova linha à submatriz\n",
        "    return submatriz  # Retorna a submatriz\n",
        "\n",
        "\n",
        "def determinanteMP(matriz):\n",
        "    # Caso 1: Calcula o determinante da matriz de ordem 1\n",
        "    if len(matriz) == 1:\n",
        "        return matriz[0][0]\n",
        "\n",
        "    # Caso 2: Calcula o determinante da matriz de ordem 2\n",
        "    elif len(matriz) == 2:\n",
        "        return (matriz[0][0] * matriz[1][1]) - (matriz[0][1] * matriz[1][0])\n",
        "\n",
        "    # Inicializa a variável do determinante\n",
        "    determinante = 0\n",
        "\n",
        "    # Caso 3: Expansão de Laplace para calcular o determinante de matrizes de ordem maior que 2\n",
        "    for col in range(len(matriz[0])):\n",
        "        # Calcula o cofator da posição [0][col]\n",
        "        cofator = ((-1) ** col) * matriz[0][col] * determinanteMP(submatriz(matriz, 0, col))\n",
        "        determinante += cofator  # Soma o cofator ao determinante total\n",
        "    return determinante  # Retorna o valor do determinante\n",
        "\n",
        "# Função principal que obtém a matriz do usuário e exibe o determinante\n",
        "matriz = main()\n",
        "print(\"\\nDeterminante da matriz:\", determinanteMP(matriz))"
      ]
    }
  ]
}